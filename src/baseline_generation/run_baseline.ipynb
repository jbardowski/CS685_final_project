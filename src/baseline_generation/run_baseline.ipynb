{
 "cells": [
  {
   "cell_type": "code",
   "execution_count": 2,
   "metadata": {},
   "outputs": [],
   "source": [
    "import os\n",
    "from together import Together\n",
    "\n",
    "client = Together(api_key=os.environ.get(\"TOGETHER_API_KEY\"))"
   ]
  },
  {
   "cell_type": "code",
   "execution_count": 3,
   "metadata": {},
   "outputs": [],
   "source": [
    "def call_gpt(prompt: str) -> str:\n",
    "    \n",
    "    messages = [{\"role\": \"system\", \"content\": \"You are a professional who can annotate corporate esg report.\"}, \n",
    "                {\"role\": \"user\", \"content\":prompt}]\n",
    "\n",
    "    response = client.chat.completions.create(\n",
    "                model=\"mistralai/Mistral-7B-Instruct-v0.2\",\n",
    "                messages=messages,\n",
    "                temperature= 0.7\n",
    "            )\n",
    "\n",
    "    return response.choices[0].message.content, response.usage\n",
    "\n",
    "def create_prompt(statement_list: list) -> str:\n",
    "    '''\n",
    "    takes in a list of sentence and returns two ouptut, whether it belongs to scope3, how vague the statement is\n",
    "    '''\n",
    "    \n",
    "    prompt = '''Below is a statement from a corporate esg report.''' \\\n",
    "    ''' Classify whether the below statement pertains to scope3 emission and how vague the statement is.''' \\\n",
    "    ''' For Scope 3, label it Yes or No. For vagueness, score it if its specific, ambiguous or generic relating to ESG and notESG if it doesnt relate to ESG at all.''' \\\n",
    "    ''' Reply only as a valid json array like this {{\"scope3\":<answer>, 'vague\":<answer>}}. Reply only with json array and nothing else.'''\\\n",
    "    ''' Here is an example '''\\\n",
    "    ''' Input:\"These Scope 3 emissions, encompassing a range of activities from the procurement of goods and services to the use of our sold products, represent a significant portion of our overall carbon footprint.\" '''\\\n",
    "    ''' Response: {{\"scope3\":\"yes\", \"vague\":\"ambiguous\"}}'''\\\n",
    "    ''' Input:\"We have successfully reduced our water usage by 20% in the past year across all operational facilities.\"'''\\\n",
    "    ''' Response : {{\"scope3\":\"no\", \"vague\":\"specific\"}} '''\\\n",
    "    ''' Now do it for below statement Input:{statement_list}. Response:'''\n",
    "    \n",
    "    modified_prompt = prompt.format(statement_list = statement_list)\n",
    "    \n",
    "    return modified_prompt"
   ]
  },
  {
   "cell_type": "code",
   "execution_count": 11,
   "metadata": {},
   "outputs": [
    {
     "name": "stdout",
     "output_type": "stream",
     "text": [
      "Running file NASDAQ_BKNG_2022_parsed.txt\n",
      "Already calculated NASDAQ_BKNG_2022_parsed.txt\n",
      "Running file NYSE_DIS_2022_parsed.txt\n",
      "Already calculated NYSE_DIS_2022_parsed.txt\n",
      "Running file NYSE_UBER_2022_parsed.txt\n",
      "Already calculated NYSE_UBER_2022_parsed.txt\n",
      "Running file NYSE_TTE_2022_parsed.txt\n",
      "Already calculated NYSE_TTE_2022_parsed.txt\n",
      "Running file NYSE_MCD_2022_parsed.txt\n",
      "Already calculated NYSE_MCD_2022_parsed.txt\n",
      "Running file NYSE_KO_2022_parsed.txt\n",
      "Already calculated NYSE_KO_2022_parsed.txt\n",
      "Running file NYSE_NKE_2022_parsed.txt\n",
      "Already calculated NYSE_NKE_2022_parsed.txt\n",
      "Running file NYSE_XOM_2022_parsed.txt\n",
      "Already calculated NYSE_XOM_2022_parsed.txt\n",
      "Running file NYSE_PFE_2022_parsed.txt\n",
      "No of lines 1068\n"
     ]
    },
    {
     "name": "stderr",
     "output_type": "stream",
     "text": [
      "100%|██████████| 1068/1068 [25:46<00:00,  1.45s/it]"
     ]
    },
    {
     "name": "stdout",
     "output_type": "stream",
     "text": [
      "341401 317102 24299\n"
     ]
    },
    {
     "name": "stderr",
     "output_type": "stream",
     "text": [
      "\n"
     ]
    }
   ],
   "source": [
    "import os\n",
    "from tqdm import tqdm\n",
    "import json\n",
    "import time\n",
    "import pandas as pd\n",
    "\n",
    "\n",
    "folder_path = '../parsed_docs/'\n",
    "output_folder = '../baseline_docs/'\n",
    "text_batch_size = 5\n",
    "\n",
    "gpt_calculated_files = [file_name for file_name in os.listdir(output_folder) if 'baseline.csv' in file_name]\n",
    "\n",
    "for file_name in os.listdir(folder_path):\n",
    "    print('Running file', file_name)\n",
    "    if file_name.replace('parsed.txt', 'baseline.csv') in gpt_calculated_files:\n",
    "        print('Already calculated', file_name)\n",
    "        continue\n",
    "\n",
    "    file_path = os.path.join(folder_path, file_name)\n",
    "    with open(file_path, 'r') as file:\n",
    "        data = [line for line in file.readlines() if line != '\\n']\n",
    "    print('No of lines', len(data))\n",
    "    \n",
    "    responses = []\n",
    "    for batch in tqdm(data):\n",
    "        mod_prompt = create_prompt(batch)\n",
    "        responses.append(call_gpt(mod_prompt))\n",
    "\n",
    "    total=0\n",
    "    completion=0\n",
    "    prompt=0\n",
    "    for i in responses:\n",
    "        total += i[1].total_tokens\n",
    "        completion += i[1].completion_tokens\n",
    "        prompt += i[1].prompt_tokens\n",
    "    print(total, prompt, completion)\n",
    "\n",
    "    all_responses = []\n",
    "    for i, j in zip(responses, data):\n",
    "        try:\n",
    "            string = i[0]\n",
    "            parsed_json = json.loads(string)\n",
    "        except:\n",
    "            try:\n",
    "                if '}' in i[0]:\n",
    "                    string = i[0].split('}')[0]+'}'\n",
    "                    parsed_json = json.loads(string)\n",
    "            except:\n",
    "                print('Error in json', i)\n",
    "                parsed_json = {'scope3':'', 'vague':''}\n",
    "\n",
    "        if len(parsed_json) != 2:\n",
    "            raise ValueError('Length not same as batch_size', len(parsed_json), len(j))\n",
    "        all_responses.append(parsed_json)\n",
    "\n",
    "    final_df = pd.DataFrame([[i,j] for i,j in zip(data, all_responses)], columns=['text', 'llm_responses'])\n",
    "    final_df['scope3'] = final_df['llm_responses'].apply(lambda x: x.get('scope3', ''))\n",
    "    final_df['vague'] = final_df['llm_responses'].apply(lambda x: x.get('vague', '') )\n",
    "\n",
    "    output_file_path = os.path.join(output_folder, file_name.replace('parsed.txt', 'baseline.csv'))\n",
    "    \n",
    "    final_df.to_csv(output_file_path, index=False)"
   ]
  },
  {
   "cell_type": "code",
   "execution_count": 12,
   "metadata": {},
   "outputs": [
    {
     "name": "stdout",
     "output_type": "stream",
     "text": [
      "NYSE_DE_baseline.csv\n",
      "NYSE_XOM_2022_baseline.csv\n",
      "NYSE_DIS_2022_baseline.csv\n",
      "NASDAQ_BKNG_2022_baseline.csv\n",
      "NYSE_KO_2022_baseline.csv\n",
      "NYSE_TTE_2022_baseline.csv\n",
      "NYSE_PFE_2022_baseline.csv\n",
      "NYSE_NKE_2022_baseline.csv\n",
      "NYSE_UBER_2022_baseline.csv\n",
      "NYSE_MCD_2022_baseline.csv\n"
     ]
    }
   ],
   "source": [
    "dfs = []\n",
    "for file in os.listdir():\n",
    "    if 'baseline.csv' not in file:\n",
    "        continue\n",
    "    print(file)\n",
    "\n",
    "    df = pd.read_csv(file)\n",
    "    df['file_name'] = file\n",
    "    df['model_name'] = 'Mistral-7B-Instruct-v0.2'\n",
    "\n",
    "    dfs.append(df)\n",
    "\n",
    "dfs = pd.concat(dfs)\n",
    "dfs.to_csv('baseline_data_mistral7b.csv', index=False)"
   ]
  },
  {
   "cell_type": "code",
   "execution_count": null,
   "metadata": {},
   "outputs": [],
   "source": []
  },
  {
   "cell_type": "code",
   "execution_count": 14,
   "metadata": {},
   "outputs": [],
   "source": [
    "def call_gpt(prompt: str) -> str:\n",
    "    \n",
    "    messages = [{\"role\": \"system\", \"content\": \"You are a professional who can annotate corporate esg report.\"}, \n",
    "                {\"role\": \"user\", \"content\":prompt}]\n",
    "\n",
    "    response = client.chat.completions.create(\n",
    "                model=\"mistralai/Mistral-7B-Instruct-v0.2\",\n",
    "                messages=messages,\n",
    "                temperature= 0.7\n",
    "            )\n",
    "\n",
    "    return response.choices[0].message.content, response.usage\n",
    "\n",
    "def get_yes_no(statement: str) -> str:\n",
    "    \n",
    "    prompt = '''Below is a response from a decoder model. It is supposed to be only yes or no but returned answers were not correct sometimes.''' \\\n",
    "    ''' Map the text to only two of these value and if its not possible return null. Return only one keyword and only yes or no or null''' \\\n",
    "    ''' Text {statement} Response:'''\n",
    "    \n",
    "    modified_prompt = prompt.format(statement = statement)\n",
    "    \n",
    "    return modified_prompt\n",
    "\n",
    "def get_vague(statement: str) -> str:\n",
    "    \n",
    "    prompt = '''Below is a response from a decoder model. It is supposed to be only specific, ambigious, generic or notESG but returned answers were not correct sometimes.''' \\\n",
    "    ''' Map the text to only 4 of these value and if its not possible return null. Return only one keyword.''' \\\n",
    "    ''' Text {statement} Response:'''\n",
    "    \n",
    "    modified_prompt = prompt.format(statement = statement)\n",
    "    \n",
    "    return modified_prompt"
   ]
  },
  {
   "cell_type": "code",
   "execution_count": 15,
   "metadata": {},
   "outputs": [],
   "source": [
    "data = pd.read_csv('baseline_data_mistral7b.csv')"
   ]
  },
  {
   "cell_type": "code",
   "execution_count": 16,
   "metadata": {},
   "outputs": [
    {
     "data": {
      "text/html": [
       "<div>\n",
       "<style scoped>\n",
       "    .dataframe tbody tr th:only-of-type {\n",
       "        vertical-align: middle;\n",
       "    }\n",
       "\n",
       "    .dataframe tbody tr th {\n",
       "        vertical-align: top;\n",
       "    }\n",
       "\n",
       "    .dataframe thead th {\n",
       "        text-align: right;\n",
       "    }\n",
       "</style>\n",
       "<table border=\"1\" class=\"dataframe\">\n",
       "  <thead>\n",
       "    <tr style=\"text-align: right;\">\n",
       "      <th></th>\n",
       "      <th>text</th>\n",
       "      <th>llm_responses</th>\n",
       "      <th>scope3</th>\n",
       "      <th>vague</th>\n",
       "      <th>file_name</th>\n",
       "      <th>model_name</th>\n",
       "    </tr>\n",
       "  </thead>\n",
       "  <tbody>\n",
       "    <tr>\n",
       "      <th>0</th>\n",
       "      <td>Business Impact Report Databook This Databook ...</td>\n",
       "      <td>{'scope3': 'no', 'vague': 'specific'}</td>\n",
       "      <td>no</td>\n",
       "      <td>specific</td>\n",
       "      <td>NYSE_DE_baseline.csv</td>\n",
       "      <td>Mistral-7B-Instruct-v0.2</td>\n",
       "    </tr>\n",
       "    <tr>\n",
       "      <th>1</th>\n",
       "      <td>Supplemental Content This Supplemental Content...</td>\n",
       "      <td>{'scope3': 'no', 'vague': 'generic'}</td>\n",
       "      <td>no</td>\n",
       "      <td>generic</td>\n",
       "      <td>NYSE_DE_baseline.csv</td>\n",
       "      <td>Mistral-7B-Instruct-v0.2</td>\n",
       "    </tr>\n",
       "    <tr>\n",
       "      <th>2</th>\n",
       "      <td>Operating Return on Sales (OROS), and Sharehol...</td>\n",
       "      <td>{'scope3': 'no', 'vague': 'generic'}</td>\n",
       "      <td>no</td>\n",
       "      <td>generic</td>\n",
       "      <td>NYSE_DE_baseline.csv</td>\n",
       "      <td>Mistral-7B-Instruct-v0.2</td>\n",
       "    </tr>\n",
       "    <tr>\n",
       "      <th>3</th>\n",
       "      <td>For reconciliations of OROS to the most direct...</td>\n",
       "      <td>{'scope3': 'no', 'vague': 'generic'}</td>\n",
       "      <td>no</td>\n",
       "      <td>generic</td>\n",
       "      <td>NYSE_DE_baseline.csv</td>\n",
       "      <td>Mistral-7B-Instruct-v0.2</td>\n",
       "    </tr>\n",
       "    <tr>\n",
       "      <th>4</th>\n",
       "      <td>John Deere had an outstanding year in 2023, de...</td>\n",
       "      <td>{'scope3': 'no', 'vague': 'generic'}</td>\n",
       "      <td>no</td>\n",
       "      <td>generic</td>\n",
       "      <td>NYSE_DE_baseline.csv</td>\n",
       "      <td>Mistral-7B-Instruct-v0.2</td>\n",
       "    </tr>\n",
       "  </tbody>\n",
       "</table>\n",
       "</div>"
      ],
      "text/plain": [
       "                                                text  \\\n",
       "0  Business Impact Report Databook This Databook ...   \n",
       "1  Supplemental Content This Supplemental Content...   \n",
       "2  Operating Return on Sales (OROS), and Sharehol...   \n",
       "3  For reconciliations of OROS to the most direct...   \n",
       "4  John Deere had an outstanding year in 2023, de...   \n",
       "\n",
       "                           llm_responses scope3     vague  \\\n",
       "0  {'scope3': 'no', 'vague': 'specific'}     no  specific   \n",
       "1   {'scope3': 'no', 'vague': 'generic'}     no   generic   \n",
       "2   {'scope3': 'no', 'vague': 'generic'}     no   generic   \n",
       "3   {'scope3': 'no', 'vague': 'generic'}     no   generic   \n",
       "4   {'scope3': 'no', 'vague': 'generic'}     no   generic   \n",
       "\n",
       "              file_name                model_name  \n",
       "0  NYSE_DE_baseline.csv  Mistral-7B-Instruct-v0.2  \n",
       "1  NYSE_DE_baseline.csv  Mistral-7B-Instruct-v0.2  \n",
       "2  NYSE_DE_baseline.csv  Mistral-7B-Instruct-v0.2  \n",
       "3  NYSE_DE_baseline.csv  Mistral-7B-Instruct-v0.2  \n",
       "4  NYSE_DE_baseline.csv  Mistral-7B-Instruct-v0.2  "
      ]
     },
     "execution_count": 16,
     "metadata": {},
     "output_type": "execute_result"
    }
   ],
   "source": [
    "data.head()"
   ]
  },
  {
   "cell_type": "code",
   "execution_count": 17,
   "metadata": {},
   "outputs": [
    {
     "data": {
      "text/plain": [
       "scope3\n",
       "no                                                                                                                                                            7066\n",
       "yes                                                                                                                                                            587\n",
       "maybe                                                                                                                                                          158\n",
       "generic                                                                                                                                                         44\n",
       "ambiguous                                                                                                                                                       31\n",
       "possibly                                                                                                                                                        13\n",
       "not specific                                                                                                                                                     4\n",
       "not relevant                                                                                                                                                     4\n",
       "unknown                                                                                                                                                          3\n",
       "yes, but not specifically mentioned                                                                                                                              2\n",
       "not applicable                                                                                                                                                   2\n",
       "yes, this statement implies emission reductions for Scope 3 emissions related to the use of the company's sold products                                          1\n",
       "yes, potentially                                                                                                                                                 1\n",
       "yes, but it does not specify if it's only Scope 1 and 2 or if it includes Scope 3 as well, so some level of ambiguity exists.                                    1\n",
       "generic (but potentially yes, as travel sector is known for high Scope 3 emissions)                                                                              1\n",
       "Sunset or no relation                                                                                                                                            1\n",
       "both (mainly from purchased energy and upstream/downstream emissions)                                                                                            1\n",
       "yes, but only for the largest supplier                                                                                                                           1\n",
       "yes, implicit                                                                                                                                                    1\n",
       "yes, but vague                                                                                                                                                   1\n",
       "yes, as Scope 1,2 emissions include Scope 3 upstream and downstream emissions                                                                                    1\n",
       "no, but the impact on Scope 3 could be indirect and depend on the specifics of the partnership                                                                   1\n",
       "vague                                                                                                                                                            1\n",
       "not directly mentioned                                                                                                                                           1\n",
       "notESG                                                                                                                                                           1\n",
       "yes, but it's not clear if the statement specifically refers to Scope 3 emissions reduction.                                                                     1\n",
       "yes, upstream projects                                                                                                                                           1\n",
       "yes, this statement implies that the carbon price will impact the emissions from the company's upstream and downstream activities which fall under Scope 3       1\n",
       "potentially                                                                                                                                                      1\n",
       "['yes']                                                                                                                                                          1\n",
       "yes, but not directly reported, it relates to the use of sold products (CCS processes) which could lead to reduction of Scope 3 emissions                        1\n",
       "yes (indirect, through purchased electricity)                                                                                                                    1\n",
       "not directly                                                                                                                                                     1\n",
       "yes (indirect through the use of ZEVs and public transit)                                                                                                        1\n",
       "yes, possibly                                                                                                                                                    1\n",
       "maybe ??                                                                                                                                                         1\n",
       "Name: count, dtype: int64"
      ]
     },
     "execution_count": 17,
     "metadata": {},
     "output_type": "execute_result"
    }
   ],
   "source": [
    "data['scope3'].value_counts()"
   ]
  },
  {
   "cell_type": "code",
   "execution_count": 18,
   "metadata": {},
   "outputs": [
    {
     "data": {
      "text/plain": [
       "vague\n",
       "generic                                                                                                                             5490\n",
       "specific                                                                                                                            1420\n",
       "ambiguous                                                                                                                            645\n",
       "notESG                                                                                                                                94\n",
       "not relevant to ESG                                                                                                                   72\n",
       "                                                                                                                                    ... \n",
       "specific (relates to global CO2 emissions, not directly to Scope 3)                                                                    1\n",
       "specific (relating to TotalEnergies' energy production in 2050)                                                                        1\n",
       "specific (relating to renewable energy capacity but not directly addressing Scope 3 emissions)                                         1\n",
       "specific (relates to renewable capacity, not directly to emissions)                                                                    1\n",
       "specific (relates to ESG, as it mentions reduction, but not directly related to corporate emissions or sustainability practices)       1\n",
       "Name: count, Length: 74, dtype: int64"
      ]
     },
     "execution_count": 18,
     "metadata": {},
     "output_type": "execute_result"
    }
   ],
   "source": [
    "data['vague'].value_counts()"
   ]
  },
  {
   "cell_type": "code",
   "execution_count": null,
   "metadata": {},
   "outputs": [],
   "source": []
  }
 ],
 "metadata": {
  "kernelspec": {
   "display_name": "unsloth_env",
   "language": "python",
   "name": "python3"
  },
  "language_info": {
   "codemirror_mode": {
    "name": "ipython",
    "version": 3
   },
   "file_extension": ".py",
   "mimetype": "text/x-python",
   "name": "python",
   "nbconvert_exporter": "python",
   "pygments_lexer": "ipython3",
   "version": "3.10.14"
  }
 },
 "nbformat": 4,
 "nbformat_minor": 2
}
