{
 "cells": [
  {
   "cell_type": "code",
   "execution_count": 2,
   "metadata": {},
   "outputs": [],
   "source": [
    "import pandas as pd\n",
    "import os"
   ]
  },
  {
   "cell_type": "code",
   "execution_count": 3,
   "metadata": {},
   "outputs": [],
   "source": [
    "folder_path = '../clean_reports/'"
   ]
  },
  {
   "cell_type": "code",
   "execution_count": 4,
   "metadata": {},
   "outputs": [
    {
     "data": {
      "text/plain": [
       "['2022-ESG-Report_parsed.txt',\n",
       " '2022 Environmental Sustainability Report_parsed.txt',\n",
       " 'NASDAQ_ISRG_2022_parsed.txt',\n",
       " 'HDFC Bank - Integrated Annual Report 2021-22_parsed.txt',\n",
       " 'NYSE_C_2022_parsed.txt',\n",
       " 'NYSE_NEE_2022_parsed.txt',\n",
       " 'NASDAQ_BKNG_2022_parsed.txt',\n",
       " 'Wells Fargo Sustainability & Governance Report_parsed.txt',\n",
       " 'NYSE_COP_2022_parsed.txt',\n",
       " 'Abbott-2022-Global-Sustainability-Report-June-2023_parsed.txt',\n",
       " 'NASDAQ_AMAT_2022_parsed.txt',\n",
       " '2022 Cisco Purpose Report_parsed.txt',\n",
       " 'amgen-2022-esg-report_parsed.txt',\n",
       " 'Lam Research ESG Report_parsed.txt',\n",
       " 'NYSE_HON_2022_parsed.txt',\n",
       " '2022-tesla-impact-report-highlights_parsed.txt',\n",
       " 'NYSE_UBER_2022_parsed.txt',\n",
       " 'NYSE_TTE_2022_parsed.txt',\n",
       " '2022-sustainable-development-report_parsed.txt',\n",
       " 'Adobe Corporate Social Responsibility Report 2022_parsed.txt',\n",
       " 'Integrated Report 2022_parsed.txt',\n",
       " 'NASDAQ_AMD_2022_parsed.txt',\n",
       " 'sr2022_en_parsed.txt',\n",
       " 'community-impact-report-5th-edition-090922_parsed.txt',\n",
       " 'Building a Better Future Together 2022 Amazon Sustainability Report_parsed.txt',\n",
       " '2022–2023 Our Purpose & Impact Report McDonald’s Corporation_parsed.txt',\n",
       " 'intuit-cr-report-2022-icom_parsed.txt',\n",
       " 'NYSE_NKE_2022_parsed.txt',\n",
       " 'Walmart FY2022 ESG Summary_parsed.txt',\n",
       " 'eaton-sustainability-report_parsed.txt',\n",
       " '2022-esg-summary-performance-metrics_parsed.txt',\n",
       " '2022 Qualcomm Corporate Responsibility Report_parsed.txt',\n",
       " 'ESG-Report-Novo-Nordisk-Pharmatech-2022_parsed.txt',\n",
       " 'environment-social-governance-report-2022_parsed.txt',\n",
       " '2022 Environmental Social Governance Report_parsed.txt',\n",
       " 'PowerPoint Presentation_parsed.txt',\n",
       " 'The Coca-Cola Company 2022 Business & Sustainability Report_parsed.txt',\n",
       " 'Annual Report and Accounts 2022_parsed.txt',\n",
       " 'NASDAQ_GOOG_2022_parsed.txt',\n",
       " 'ESG Report 2022 Final_parsed.txt',\n",
       " 'NYSE_UNH_2022_parsed.txt',\n",
       " 'novartis-integrated-report-2022_parsed.txt',\n",
       " 'Blackstone_ESG_FINAL_AODA_parsed.txt',\n",
       " 'NYSE_RTX_2022_parsed.txt',\n",
       " '2022 Health for Humanity Report_parsed.txt',\n",
       " 'Sustainability Report 2022_parsed.txt',\n",
       " '2022 Corporate Sustainability Report_parsed.txt',\n",
       " '2022 Corporate Citizenship Report (Rev. A)_parsed.txt',\n",
       " 'NYSE_VZ_2022_parsed.txt',\n",
       " 'NYSE_PFE_2022_parsed.txt',\n",
       " 'NASDAQ_CMCSA_2022_parsed.txt',\n",
       " '2022 SAP Sustainability Report_parsed.txt',\n",
       " 'e-all_2022_parsed.txt',\n",
       " 'NASDAQ_AAPL_2022_parsed.txt',\n",
       " '2022 Netflix Environmental Social Governance Report_parsed.txt',\n",
       " 'NASDAQ_BHLB_2022_parsed.txt',\n",
       " 'LSE_AZN_2022_parsed.txt',\n",
       " '2022-micron-sustainabilityreport_parsed.txt',\n",
       " 'NYSE_HD_2022_parsed.txt',\n",
       " 'AB InBev_2022 ESG Report_FINAL_parsed.txt',\n",
       " 'Progressive 2022 Corporate Sustainability Report_parsed.txt',\n",
       " 'ATT-Sustainability-Summary_parsed.txt',\n",
       " 'pmi-integrated-report-2022_parsed.txt',\n",
       " 'NYSE_DHR_2022_parsed.txt',\n",
       " 'NASDAQ_NVDA_2022_parsed.txt',\n",
       " 'NYSE_SCHW_2022_parsed.txt',\n",
       " 'Stryker 2022 Comprehensive Report_parsed.txt',\n",
       " '2022 Caterpillar Sustainability Report_parsed.txt',\n",
       " 'NYSE_MS_2022_parsed.txt',\n",
       " 'The Walt Disney Company_ 2022 Corporate Social Responsibility Report_parsed.txt',\n",
       " 'social-impact-report2022_parsed.txt',\n",
       " '2022-abbvie-esg-action-report_parsed.txt',\n",
       " 'Unilever Annual Report and Accounts 2022_parsed.txt',\n",
       " '1b2a839c-74d1-4e5c-b16a-3c290bf73ab7_parsed.txt',\n",
       " '2022 Corporate Responsibility Report-English_parsed.txt',\n",
       " '360-Value-Report-2022_parsed.txt',\n",
       " 'NYSE_GS_2022_parsed.txt',\n",
       " 'BAC_AR22_full_with3edits (003)_parsed.txt',\n",
       " '2022_Citizenship_Report_parsed.txt',\n",
       " '2022 Annual Report based on US GAAP_parsed.txt',\n",
       " 'IBM 2022 ESG Report_parsed.txt',\n",
       " 'NYSE_MRK_2022_parsed.txt',\n",
       " 'NYSE_UNP_2022_parsed.txt',\n",
       " 'costco-2022-esg-report (1)_parsed.txt',\n",
       " 'NYSE_UPS_2022_parsed.txt',\n",
       " 'Intel 2021-22 Corporate Responsibility Report_parsed.txt',\n",
       " '2022 Environmental, Social & Governance Report_parsed.txt',\n",
       " 'impact-report-2022_parsed.txt',\n",
       " 'ExxonMobil Sustainability Report_parsed.txt',\n",
       " 'NYSE_GE_2022_parsed.txt',\n",
       " 'NYSE_BABA_2022_parsed.txt',\n",
       " '2022 Corporate Social Responsibility Report_parsed.txt',\n",
       " 'servicenow-global-impact-report-2022 (1)_parsed.txt',\n",
       " 'T-Mobile-2022-Corporate-Responsibility-Report_parsed.txt',\n",
       " 'mastercard-esg-sustainabilty-report-2022_parsed.txt']"
      ]
     },
     "execution_count": 4,
     "metadata": {},
     "output_type": "execute_result"
    }
   ],
   "source": [
    "os.listdir(folder_path)"
   ]
  },
  {
   "cell_type": "code",
   "execution_count": 5,
   "metadata": {},
   "outputs": [
    {
     "data": {
      "text/plain": [
       "95"
      ]
     },
     "execution_count": 5,
     "metadata": {},
     "output_type": "execute_result"
    }
   ],
   "source": [
    "len(os.listdir(folder_path))"
   ]
  },
  {
   "cell_type": "code",
   "execution_count": 12,
   "metadata": {},
   "outputs": [],
   "source": [
    "report_data = []\n",
    "for file in os.listdir(folder_path):\n",
    "    with open(folder_path + file, 'r') as f:\n",
    "        data = [[line.strip(), file] for line in f.readlines() if line.strip() != '']\n",
    "        report_data.extend(data)"
   ]
  },
  {
   "cell_type": "code",
   "execution_count": 13,
   "metadata": {},
   "outputs": [],
   "source": [
    "df = pd.DataFrame(report_data, columns=['text', 'file'])"
   ]
  },
  {
   "cell_type": "code",
   "execution_count": 14,
   "metadata": {},
   "outputs": [
    {
     "data": {
      "text/html": [
       "<div>\n",
       "<style scoped>\n",
       "    .dataframe tbody tr th:only-of-type {\n",
       "        vertical-align: middle;\n",
       "    }\n",
       "\n",
       "    .dataframe tbody tr th {\n",
       "        vertical-align: top;\n",
       "    }\n",
       "\n",
       "    .dataframe thead th {\n",
       "        text-align: right;\n",
       "    }\n",
       "</style>\n",
       "<table border=\"1\" class=\"dataframe\">\n",
       "  <thead>\n",
       "    <tr style=\"text-align: right;\">\n",
       "      <th></th>\n",
       "      <th>text</th>\n",
       "      <th>file</th>\n",
       "    </tr>\n",
       "  </thead>\n",
       "  <tbody>\n",
       "    <tr>\n",
       "      <th>0</th>\n",
       "      <td>From time to time, Royal Bank of Canada and it...</td>\n",
       "      <td>2022-ESG-Report_parsed.txt</td>\n",
       "    </tr>\n",
       "    <tr>\n",
       "      <th>1</th>\n",
       "      <td>We may make forward looking statements in this...</td>\n",
       "      <td>2022-ESG-Report_parsed.txt</td>\n",
       "    </tr>\n",
       "    <tr>\n",
       "      <th>2</th>\n",
       "      <td>Forward looking statements in this Report incl...</td>\n",
       "      <td>2022-ESG-Report_parsed.txt</td>\n",
       "    </tr>\n",
       "    <tr>\n",
       "      <th>3</th>\n",
       "      <td>The forward looking information contained in t...</td>\n",
       "      <td>2022-ESG-Report_parsed.txt</td>\n",
       "    </tr>\n",
       "    <tr>\n",
       "      <th>4</th>\n",
       "      <td>Forward looking statements are typically ident...</td>\n",
       "      <td>2022-ESG-Report_parsed.txt</td>\n",
       "    </tr>\n",
       "  </tbody>\n",
       "</table>\n",
       "</div>"
      ],
      "text/plain": [
       "                                                text  \\\n",
       "0  From time to time, Royal Bank of Canada and it...   \n",
       "1  We may make forward looking statements in this...   \n",
       "2  Forward looking statements in this Report incl...   \n",
       "3  The forward looking information contained in t...   \n",
       "4  Forward looking statements are typically ident...   \n",
       "\n",
       "                         file  \n",
       "0  2022-ESG-Report_parsed.txt  \n",
       "1  2022-ESG-Report_parsed.txt  \n",
       "2  2022-ESG-Report_parsed.txt  \n",
       "3  2022-ESG-Report_parsed.txt  \n",
       "4  2022-ESG-Report_parsed.txt  "
      ]
     },
     "execution_count": 14,
     "metadata": {},
     "output_type": "execute_result"
    }
   ],
   "source": [
    "df.head()"
   ]
  },
  {
   "cell_type": "code",
   "execution_count": 15,
   "metadata": {},
   "outputs": [
    {
     "data": {
      "text/plain": [
       "text    105596\n",
       "file    105596\n",
       "dtype: int64"
      ]
     },
     "execution_count": 15,
     "metadata": {},
     "output_type": "execute_result"
    }
   ],
   "source": [
    "df.count()"
   ]
  },
  {
   "cell_type": "code",
   "execution_count": 16,
   "metadata": {},
   "outputs": [
    {
     "data": {
      "text/plain": [
       "file\n",
       "Annual Report and Accounts 2022_parsed.txt            8622\n",
       "sr2022_en_parsed.txt                                  3689\n",
       "pmi-integrated-report-2022_parsed.txt                 3246\n",
       "NYSE_GE_2022_parsed.txt                               2413\n",
       "NYSE_COP_2022_parsed.txt                              2330\n",
       "                                                      ... \n",
       "ESG-Report-Novo-Nordisk-Pharmatech-2022_parsed.txt      98\n",
       "2022-esg-summary-performance-metrics_parsed.txt         83\n",
       "BAC_AR22_full_with3edits (003)_parsed.txt               57\n",
       "NYSE_UPS_2022_parsed.txt                                15\n",
       "2022-tesla-impact-report-highlights_parsed.txt           7\n",
       "Name: count, Length: 95, dtype: int64"
      ]
     },
     "execution_count": 16,
     "metadata": {},
     "output_type": "execute_result"
    }
   ],
   "source": [
    "df['file'].value_counts()"
   ]
  },
  {
   "cell_type": "code",
   "execution_count": 19,
   "metadata": {},
   "outputs": [
    {
     "data": {
      "text/plain": [
       "file\n",
       "Walmart FY2022 ESG Summary_parsed.txt                             551\n",
       "Unilever Annual Report and Accounts 2022_parsed.txt               538\n",
       "NASDAQ_BKNG_2022_parsed.txt                                       535\n",
       "2022 Netflix Environmental Social Governance Report_parsed.txt    524\n",
       "Blackstone_ESG_FINAL_AODA_parsed.txt                              506\n",
       "social-impact-report2022_parsed.txt                               493\n",
       "2022 Annual Report based on US GAAP_parsed.txt                    376\n",
       "ATT-Sustainability-Summary_parsed.txt                             367\n",
       "NASDAQ_CMCSA_2022_parsed.txt                                      364\n",
       "Adobe Corporate Social Responsibility Report 2022_parsed.txt      262\n",
       "HDFC Bank - Integrated Annual Report 2021-22_parsed.txt           230\n",
       "2022_Citizenship_Report_parsed.txt                                204\n",
       "NASDAQ_GOOG_2022_parsed.txt                                       197\n",
       "community-impact-report-5th-edition-090922_parsed.txt             179\n",
       "2022 SAP Sustainability Report_parsed.txt                         126\n",
       "ESG-Report-Novo-Nordisk-Pharmatech-2022_parsed.txt                 98\n",
       "2022-esg-summary-performance-metrics_parsed.txt                    83\n",
       "BAC_AR22_full_with3edits (003)_parsed.txt                          57\n",
       "NYSE_UPS_2022_parsed.txt                                           15\n",
       "2022-tesla-impact-report-highlights_parsed.txt                      7\n",
       "Name: count, dtype: int64"
      ]
     },
     "execution_count": 19,
     "metadata": {},
     "output_type": "execute_result"
    }
   ],
   "source": [
    "df['file'].value_counts().tail(20)"
   ]
  },
  {
   "cell_type": "code",
   "execution_count": 20,
   "metadata": {},
   "outputs": [],
   "source": [
    "df.to_csv('all_reports.csv', index=False)"
   ]
  },
  {
   "cell_type": "code",
   "execution_count": null,
   "metadata": {},
   "outputs": [],
   "source": []
  }
 ],
 "metadata": {
  "kernelspec": {
   "display_name": "unsloth_env",
   "language": "python",
   "name": "python3"
  },
  "language_info": {
   "codemirror_mode": {
    "name": "ipython",
    "version": 3
   },
   "file_extension": ".py",
   "mimetype": "text/x-python",
   "name": "python",
   "nbconvert_exporter": "python",
   "pygments_lexer": "ipython3",
   "version": "3.10.14"
  }
 },
 "nbformat": 4,
 "nbformat_minor": 2
}
