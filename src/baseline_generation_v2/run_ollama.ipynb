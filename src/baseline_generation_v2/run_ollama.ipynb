{
 "cells": [
  {
   "cell_type": "code",
   "execution_count": 2,
   "metadata": {},
   "outputs": [],
   "source": [
    "import requests"
   ]
  },
  {
   "cell_type": "code",
   "execution_count": 3,
   "metadata": {},
   "outputs": [],
   "source": [
    "model_list_url = 'http://localhost:11434/api/tags'\n",
    "data = requests.get(model_list_url).json()"
   ]
  },
  {
   "cell_type": "code",
   "execution_count": 4,
   "metadata": {},
   "outputs": [
    {
     "data": {
      "text/plain": [
       "{'models': [{'name': 'gemma:2b-instruct-q8_0',\n",
       "   'model': 'gemma:2b-instruct-q8_0',\n",
       "   'modified_at': '2024-04-30T08:20:50.203921775Z',\n",
       "   'size': 2669360976,\n",
       "   'digest': '233b6c11a9a965cf7788e05250f1d652c8ca491ca51aac9a0c58a5e165553d23',\n",
       "   'details': {'parent_model': '',\n",
       "    'format': 'gguf',\n",
       "    'family': 'gemma',\n",
       "    'families': ['gemma'],\n",
       "    'parameter_size': '3B',\n",
       "    'quantization_level': 'Q8_0'}},\n",
       "  {'name': 'gemma:7b-instruct-q8_0',\n",
       "   'model': 'gemma:7b-instruct-q8_0',\n",
       "   'modified_at': '2024-04-30T06:41:25.186224708Z',\n",
       "   'size': 9077854096,\n",
       "   'digest': '61d0f0df36377df4f3605e26e1278212939a9efba3c800863d1cea767e3068e3',\n",
       "   'details': {'parent_model': '',\n",
       "    'format': 'gguf',\n",
       "    'family': 'gemma',\n",
       "    'families': ['gemma'],\n",
       "    'parameter_size': '9B',\n",
       "    'quantization_level': 'Q8_0'}},\n",
       "  {'name': 'llama3:latest',\n",
       "   'model': 'llama3:latest',\n",
       "   'modified_at': '2024-04-21T17:13:50.251857665Z',\n",
       "   'size': 4661224596,\n",
       "   'digest': '71a106a910165bc11d43aa128d99e32576a91cbd3e272016abd049f7a09b3235',\n",
       "   'details': {'parent_model': '',\n",
       "    'format': 'gguf',\n",
       "    'family': 'llama',\n",
       "    'families': ['llama'],\n",
       "    'parameter_size': '8B',\n",
       "    'quantization_level': 'Q4_0'}},\n",
       "  {'name': 'mistral:7b-instruct-v0.2-q8_0',\n",
       "   'model': 'mistral:7b-instruct-v0.2-q8_0',\n",
       "   'modified_at': '2024-04-30T05:59:33.911401604Z',\n",
       "   'size': 7696806087,\n",
       "   'digest': '3f321fd2a1c310d57053a59cb9139809c7945ddf4437f8b21b8f450dea4f2d5e',\n",
       "   'details': {'parent_model': '',\n",
       "    'format': 'gguf',\n",
       "    'family': 'llama',\n",
       "    'families': ['llama'],\n",
       "    'parameter_size': '7B',\n",
       "    'quantization_level': 'Q8_0'}},\n",
       "  {'name': 'mistral:latest',\n",
       "   'model': 'mistral:latest',\n",
       "   'modified_at': '2024-04-24T11:57:07.077189009Z',\n",
       "   'size': 4109865159,\n",
       "   'digest': '61e88e884507ba5e06c49b40e6226884b2a16e872382c2b44a42f2d119d804a5',\n",
       "   'details': {'parent_model': '',\n",
       "    'format': 'gguf',\n",
       "    'family': 'llama',\n",
       "    'families': ['llama'],\n",
       "    'parameter_size': '7B',\n",
       "    'quantization_level': 'Q4_0'}},\n",
       "  {'name': 'mistral:v0.2',\n",
       "   'model': 'mistral:v0.2',\n",
       "   'modified_at': '2024-04-24T12:06:44.425551373Z',\n",
       "   'size': 4109865159,\n",
       "   'digest': '61e88e884507ba5e06c49b40e6226884b2a16e872382c2b44a42f2d119d804a5',\n",
       "   'details': {'parent_model': '',\n",
       "    'format': 'gguf',\n",
       "    'family': 'llama',\n",
       "    'families': ['llama'],\n",
       "    'parameter_size': '7B',\n",
       "    'quantization_level': 'Q4_0'}},\n",
       "  {'name': 'mixtral:latest',\n",
       "   'model': 'mixtral:latest',\n",
       "   'modified_at': '2024-02-20T17:55:57.489787522Z',\n",
       "   'size': 26442481545,\n",
       "   'digest': '7708c059a8bb4d950e5e679aef904fd4da96aa4d551a5cd14a7f7e2308a82f6d',\n",
       "   'details': {'parent_model': '',\n",
       "    'format': 'gguf',\n",
       "    'family': 'llama',\n",
       "    'families': ['llama'],\n",
       "    'parameter_size': '47B',\n",
       "    'quantization_level': 'Q4_0'}}]}"
      ]
     },
     "execution_count": 4,
     "metadata": {},
     "output_type": "execute_result"
    }
   ],
   "source": [
    "data"
   ]
  },
  {
   "cell_type": "code",
   "execution_count": 5,
   "metadata": {},
   "outputs": [],
   "source": [
    "def create_prompt_scope3(statement: str) -> str:\n",
    "    \n",
    "    prompt = ''' Determine whether the sentence is discussing scope 3 emissions or not.\n",
    "    Scope 3 categories are:\n",
    "    Purchased goods and services\n",
    "    Capital goods\n",
    "    Fuel and energy-related activities (not included in scope 1 or 2)\n",
    "    Upstream transportation and distribution\n",
    "    Waste generated in operations\n",
    "    Business travel\n",
    "    Employee commuting\n",
    "    Upstream leased assets\n",
    "    Downstream transportation and distribution\n",
    "    Processing of sold products\n",
    "    Use of sold products\n",
    "    End-of-life treatment of sold products\n",
    "    Downstream leased assets\n",
    "    Franchises\n",
    "    Investments\n",
    "    \n",
    " if yes, return the category of scope 3. Take a deep breath and answer.\n",
    "    {statement} Response:'''\n",
    "    \n",
    "    modified_prompt = prompt.format(statement = statement)\n",
    "    \n",
    "    return modified_prompt"
   ]
  },
  {
   "cell_type": "code",
   "execution_count": 6,
   "metadata": {},
   "outputs": [],
   "source": [
    "def create_prompt_vagueness(statement: str) -> str:\n",
    "    \n",
    "    prompt = ''' You will be given sentences from corporate ESG reports. Your task is to classify each sentence into one of the following categories:\n",
    "\n",
    "1. Specific: The sentence describes specific and measurable actions, initiatives, or achievements related to ESG.\n",
    "\n",
    "2. Ambiguous: The sentence mentions ESG-related topics but lacks clear details or measurable commitments.\n",
    "\n",
    "3. Generic: The sentence contains generic statements or platitudes about ESG without specific details.\n",
    "\n",
    "4. NotRelated: The sentence is not related to ESG topics.\n",
    "\n",
    "For each sentence, respond with the corresponding category number and a brief explanation for your classification.\n",
    "\n",
    "Example:\n",
    "\n",
    "Sentence: \"Our company has implemented energy-efficient lighting across all facilities, reducing carbon emissions by 25% in 2022.\"\n",
    "Response: 1. Specific - This sentence describes a concrete action (implementing energy-efficient lighting) and provides a measurable outcome (25% reduction in carbon emissions in 2022).\n",
    "\n",
    "Sentence: \"We are committed to environmental stewardship and sustainable practices.\"\n",
    "Response: 3. Generic - This is a generic statement about environmental commitment without any specific details or actions.\n",
    "    {statement} Response:'''\n",
    "    \n",
    "    modified_prompt = prompt.format(statement = statement)\n",
    "    \n",
    "    return modified_prompt"
   ]
  },
  {
   "cell_type": "code",
   "execution_count": 7,
   "metadata": {},
   "outputs": [
    {
     "data": {
      "text/plain": [
       "' You will be given sentences from corporate ESG reports. Your task is to classify each sentence into one of the following categories:\\n\\n1. Specific: The sentence describes specific and measurable actions, initiatives, or achievements related to ESG.\\n\\n2. Ambiguous: The sentence mentions ESG-related topics but lacks clear details or measurable commitments.\\n\\n3. Generic: The sentence contains generic statements or platitudes about ESG without specific details.\\n\\n4. Not Related: The sentence is not related to ESG topics.\\n\\nFor each sentence, respond with the corresponding category number and a brief explanation for your classification.\\n\\nExample:\\n\\nSentence: \"Our company has implemented energy-efficient lighting across all facilities, reducing carbon emissions by 25% in 2022.\"\\nResponse: 1. Specific - This sentence describes a concrete action (implementing energy-efficient lighting) and provides a measurable outcome (25% reduction in carbon emissions in 2022).\\n\\nSentence: \"We are committed to environmental stewardship and sustainable practices.\"\\nResponse: 3. Generic - This is a generic statement about environmental commitment without any specific details or actions.\\n    The company has implemented energy-efficient lighting across all facilities, reducing carbon emissions by 25% in 2022. Response:'"
      ]
     },
     "execution_count": 7,
     "metadata": {},
     "output_type": "execute_result"
    }
   ],
   "source": [
    "create_prompt_vagueness('The company has implemented energy-efficient lighting across all facilities, reducing carbon emissions by 25% in 2022.')"
   ]
  },
  {
   "cell_type": "code",
   "execution_count": 8,
   "metadata": {},
   "outputs": [
    {
     "data": {
      "text/plain": [
       "{'model': 'mistral:7b-instruct-v0.2-q8_0',\n",
       " 'created_at': '2024-04-30T09:52:26.856364376Z',\n",
       " 'message': {'role': 'assistant',\n",
       "  'content': \" 1. Specific - Microsoft's commitment to becoming carbon negative by 2030 and\"},\n",
       " 'done': True,\n",
       " 'total_duration': 7694234260,\n",
       " 'load_duration': 7157267478,\n",
       " 'prompt_eval_count': 350,\n",
       " 'prompt_eval_duration': 175170000,\n",
       " 'eval_count': 20,\n",
       " 'eval_duration': 229917000}"
      ]
     },
     "execution_count": 8,
     "metadata": {},
     "output_type": "execute_result"
    }
   ],
   "source": [
    "model_chat_url = 'http://localhost:11434/api/chat'\n",
    "input_sentence = '''Microsoft has made a commitment to become carbon negative by 2030, and to remove the impact of all\n",
    "our historical emissions by 2050.1 Because of this commitment, we are compelled to focus on Scope 3\n",
    "emissions, representing one of the largest contributors to greenhouse gas emissions, and attributed in\n",
    "great measure to processes within our supply chains'''\n",
    "prompt = create_prompt_vagueness(input_sentence)\n",
    "json_data = {\n",
    "    \"model\":\"mistral:7b-instruct-v0.2-q8_0\",\n",
    "    \"stream\":False,\n",
    "    \"messages\": [\n",
    "        {\n",
    "            \"role\":\"user\",\n",
    "            \"content\": prompt\n",
    "        }\n",
    "    ],\n",
    "        \"options\": {\"num_predict\":20, \"temperature\":0.2}\n",
    "}\n",
    "requests.post(model_chat_url, json=json_data).json()"
   ]
  },
  {
   "cell_type": "code",
   "execution_count": 28,
   "metadata": {},
   "outputs": [],
   "source": [
    "def get_chat_response(text):\n",
    "    model_chat_url = 'http://localhost:11434/api/chat'\n",
    "    prompt = create_prompt_scope3(text)\n",
    "    json_data = {\n",
    "        \"model\":\"mistral:7b-instruct-v0.2-q8_0\",\n",
    "        \"stream\":False,\n",
    "        \"messages\": [\n",
    "            {\n",
    "                \"role\":\"user\",\n",
    "                \"content\": prompt\n",
    "            }\n",
    "        ],\n",
    "        \"options\": {\"num_predict\":20}\n",
    "    }\n",
    "    json_response_scope3 = requests.post(model_chat_url, json=json_data).json()['message']['content']\n",
    "\n",
    "    prompt = create_prompt_vagueness(text)\n",
    "    json_data = {\n",
    "        \"model\":\"mistral:7b-instruct-v0.2-q8_0\",\n",
    "        \"stream\":False,\n",
    "        \"messages\": [\n",
    "            {\n",
    "                \"role\":\"user\",\n",
    "                \"content\": prompt\n",
    "            }\n",
    "        ],\n",
    "        \"options\": {\"num_predict\":20, \"temperature\":0.2}\n",
    "    }\n",
    "    json_response_vagueness = requests.post(model_chat_url, json=json_data).json()['message']['content']\n",
    "    return json_response_scope3, json_response_vagueness"
   ]
  },
  {
   "cell_type": "code",
   "execution_count": 29,
   "metadata": {},
   "outputs": [
    {
     "data": {
      "text/plain": [
       "(' Yes, the sentence is discussing Scope 3 emissions. The category mentioned in the text is \"',\n",
       " \" 1. Specific - Microsoft's commitment to becoming carbon negative by 2030 and\")"
      ]
     },
     "execution_count": 29,
     "metadata": {},
     "output_type": "execute_result"
    }
   ],
   "source": [
    "get_chat_response(input_sentence)"
   ]
  },
  {
   "cell_type": "code",
   "execution_count": 30,
   "metadata": {},
   "outputs": [
    {
     "name": "stderr",
     "output_type": "stream",
     "text": [
      "  0%|          | 0/10834 [00:00<?, ?it/s]"
     ]
    },
    {
     "name": "stderr",
     "output_type": "stream",
     "text": [
      "100%|██████████| 10834/10834 [2:19:08<00:00,  1.30it/s] \n"
     ]
    }
   ],
   "source": [
    "import pandas as pd\n",
    "from tqdm import tqdm\n",
    "\n",
    "tqdm.pandas()\n",
    "\n",
    "data = pd.read_csv('final_annotated_data.csv')\n",
    "data['chat_responses'] = data['text'].progress_apply(get_chat_response)\n",
    "data['chat_response_scope3'] = data['chat_responses'].apply(lambda x: x[0])\n",
    "data['chat_response_vague'] = data['chat_responses'].apply(lambda x: x[1])\n",
    "\n",
    "# data['scope3'] = data['chat_response'].apply(lambda x: x['scope3'])\n",
    "# data['vague'] = data['chat_response'].apply(lambda x: x['vague'])\n"
   ]
  },
  {
   "cell_type": "code",
   "execution_count": 31,
   "metadata": {},
   "outputs": [
    {
     "data": {
      "text/html": [
       "<div>\n",
       "<style scoped>\n",
       "    .dataframe tbody tr th:only-of-type {\n",
       "        vertical-align: middle;\n",
       "    }\n",
       "\n",
       "    .dataframe tbody tr th {\n",
       "        vertical-align: top;\n",
       "    }\n",
       "\n",
       "    .dataframe thead th {\n",
       "        text-align: right;\n",
       "    }\n",
       "</style>\n",
       "<table border=\"1\" class=\"dataframe\">\n",
       "  <thead>\n",
       "    <tr style=\"text-align: right;\">\n",
       "      <th></th>\n",
       "      <th>text</th>\n",
       "      <th>gpt_responses</th>\n",
       "      <th>scope3</th>\n",
       "      <th>vague</th>\n",
       "      <th>file_name</th>\n",
       "      <th>chat_responses</th>\n",
       "      <th>chat_response_scope3</th>\n",
       "      <th>chat_response_vague</th>\n",
       "    </tr>\n",
       "  </thead>\n",
       "  <tbody>\n",
       "    <tr>\n",
       "      <th>0</th>\n",
       "      <td>This report contains links to websites that ar...</td>\n",
       "      <td>{'scope3': 'no', 'vague': 'notESG'}</td>\n",
       "      <td>no</td>\n",
       "      <td>notESG</td>\n",
       "      <td>NYSE_DIS_2022_results.csv</td>\n",
       "      <td>( Based on the given sentence, it is not discu...</td>\n",
       "      <td>Based on the given sentence, it is not discus...</td>\n",
       "      <td>4. Not Related - This sentence does not relat...</td>\n",
       "    </tr>\n",
       "    <tr>\n",
       "      <th>1</th>\n",
       "      <td>The website owner’s Terms of Use and Privacy P...</td>\n",
       "      <td>{'scope3': 'no', 'vague': 'notESG'}</td>\n",
       "      <td>no</td>\n",
       "      <td>notESG</td>\n",
       "      <td>NYSE_DIS_2022_results.csv</td>\n",
       "      <td>( Based on the provided sentence, it does not ...</td>\n",
       "      <td>Based on the provided sentence, it does not a...</td>\n",
       "      <td>4. Not Related - These sentences are not rela...</td>\n",
       "    </tr>\n",
       "    <tr>\n",
       "      <th>2</th>\n",
       "      <td>At The Walt Disney Company, our mission is to ...</td>\n",
       "      <td>{'scope3': 'no', 'vague': 'notESG'}</td>\n",
       "      <td>no</td>\n",
       "      <td>notESG</td>\n",
       "      <td>NYSE_DIS_2022_results.csv</td>\n",
       "      <td>( The sentence does not discuss Scope 3 emissi...</td>\n",
       "      <td>The sentence does not discuss Scope 3 emissio...</td>\n",
       "      <td>4. Not Related - This sentence does not menti...</td>\n",
       "    </tr>\n",
       "    <tr>\n",
       "      <th>3</th>\n",
       "      <td>Since our founding nearly 100 years ago, story...</td>\n",
       "      <td>{'scope3': 'no', 'vague': 'notESG'}</td>\n",
       "      <td>no</td>\n",
       "      <td>notESG</td>\n",
       "      <td>NYSE_DIS_2022_results.csv</td>\n",
       "      <td>( Based on the given sentence, there is no cle...</td>\n",
       "      <td>Based on the given sentence, there is no clea...</td>\n",
       "      <td>4. Not Related - This sentence does not menti...</td>\n",
       "    </tr>\n",
       "    <tr>\n",
       "      <th>4</th>\n",
       "      <td>This report shares our track record and ongoin...</td>\n",
       "      <td>{'scope3': 'no', 'vague': 'generic'}</td>\n",
       "      <td>no</td>\n",
       "      <td>generic</td>\n",
       "      <td>NYSE_DIS_2022_results.csv</td>\n",
       "      <td>( Based on the given sentence, it does not app...</td>\n",
       "      <td>Based on the given sentence, it does not appe...</td>\n",
       "      <td>4. Not Related - While ESG can include social...</td>\n",
       "    </tr>\n",
       "  </tbody>\n",
       "</table>\n",
       "</div>"
      ],
      "text/plain": [
       "                                                text  \\\n",
       "0  This report contains links to websites that ar...   \n",
       "1  The website owner’s Terms of Use and Privacy P...   \n",
       "2  At The Walt Disney Company, our mission is to ...   \n",
       "3  Since our founding nearly 100 years ago, story...   \n",
       "4  This report shares our track record and ongoin...   \n",
       "\n",
       "                          gpt_responses scope3    vague  \\\n",
       "0   {'scope3': 'no', 'vague': 'notESG'}     no   notESG   \n",
       "1   {'scope3': 'no', 'vague': 'notESG'}     no   notESG   \n",
       "2   {'scope3': 'no', 'vague': 'notESG'}     no   notESG   \n",
       "3   {'scope3': 'no', 'vague': 'notESG'}     no   notESG   \n",
       "4  {'scope3': 'no', 'vague': 'generic'}     no  generic   \n",
       "\n",
       "                   file_name  \\\n",
       "0  NYSE_DIS_2022_results.csv   \n",
       "1  NYSE_DIS_2022_results.csv   \n",
       "2  NYSE_DIS_2022_results.csv   \n",
       "3  NYSE_DIS_2022_results.csv   \n",
       "4  NYSE_DIS_2022_results.csv   \n",
       "\n",
       "                                      chat_responses  \\\n",
       "0  ( Based on the given sentence, it is not discu...   \n",
       "1  ( Based on the provided sentence, it does not ...   \n",
       "2  ( The sentence does not discuss Scope 3 emissi...   \n",
       "3  ( Based on the given sentence, there is no cle...   \n",
       "4  ( Based on the given sentence, it does not app...   \n",
       "\n",
       "                                chat_response_scope3  \\\n",
       "0   Based on the given sentence, it is not discus...   \n",
       "1   Based on the provided sentence, it does not a...   \n",
       "2   The sentence does not discuss Scope 3 emissio...   \n",
       "3   Based on the given sentence, there is no clea...   \n",
       "4   Based on the given sentence, it does not appe...   \n",
       "\n",
       "                                 chat_response_vague  \n",
       "0   4. Not Related - This sentence does not relat...  \n",
       "1   4. Not Related - These sentences are not rela...  \n",
       "2   4. Not Related - This sentence does not menti...  \n",
       "3   4. Not Related - This sentence does not menti...  \n",
       "4   4. Not Related - While ESG can include social...  "
      ]
     },
     "execution_count": 31,
     "metadata": {},
     "output_type": "execute_result"
    }
   ],
   "source": [
    "data.head()"
   ]
  },
  {
   "cell_type": "code",
   "execution_count": 32,
   "metadata": {},
   "outputs": [],
   "source": [
    "data.to_csv('mistral7b_baseline_new.csv', index=False)"
   ]
  },
  {
   "cell_type": "code",
   "execution_count": null,
   "metadata": {},
   "outputs": [],
   "source": []
  },
  {
   "cell_type": "code",
   "execution_count": null,
   "metadata": {},
   "outputs": [],
   "source": []
  },
  {
   "cell_type": "code",
   "execution_count": 9,
   "metadata": {},
   "outputs": [],
   "source": [
    "def get_chat_response(text):\n",
    "    model_chat_url = 'http://localhost:11434/api/chat'\n",
    "    prompt = create_prompt_scope3(text)\n",
    "    json_data = {\n",
    "        \"model\":\"gemma:7b-instruct-q8_0\",\n",
    "        \"stream\":False,\n",
    "        \"messages\": [\n",
    "            {\n",
    "                \"role\":\"user\",\n",
    "                \"content\": prompt\n",
    "            }\n",
    "        ],\n",
    "        \"options\": {\"num_predict\":20}\n",
    "    }\n",
    "    json_response_scope3 = requests.post(model_chat_url, json=json_data).json()['message']['content']\n",
    "\n",
    "    prompt = create_prompt_vagueness(text)\n",
    "    json_data = {\n",
    "        \"model\":\"gemma:7b-instruct-q8_0\",\n",
    "        \"stream\":False,\n",
    "        \"messages\": [\n",
    "            {\n",
    "                \"role\":\"user\",\n",
    "                \"content\": prompt\n",
    "            }\n",
    "        ],\n",
    "        \"options\": {\"num_predict\":20, \"temperature\":0.2}\n",
    "    }\n",
    "    json_response_vagueness = requests.post(model_chat_url, json=json_data).json()['message']['content']\n",
    "    return json_response_scope3, json_response_vagueness"
   ]
  },
  {
   "cell_type": "code",
   "execution_count": 11,
   "metadata": {},
   "outputs": [
    {
     "data": {
      "text/plain": [
       "('Yes, the sentence is discussing scope 3 emissions. The text specifically mentions \"Scope 3 emissions',\n",
       " '## Sentence Classification\\n\\n**1. Specific:**\\n\\n**Sentence:** \"Our company has implemented energy-')"
      ]
     },
     "execution_count": 11,
     "metadata": {},
     "output_type": "execute_result"
    }
   ],
   "source": [
    "get_chat_response(input_sentence)"
   ]
  },
  {
   "cell_type": "code",
   "execution_count": 12,
   "metadata": {},
   "outputs": [
    {
     "name": "stderr",
     "output_type": "stream",
     "text": [
      "100%|██████████| 10834/10834 [3:22:57<00:00,  1.12s/it] \n"
     ]
    }
   ],
   "source": [
    "import pandas as pd\n",
    "from tqdm import tqdm\n",
    "\n",
    "tqdm.pandas()\n",
    "\n",
    "data = pd.read_csv('final_annotated_data.csv')\n",
    "data['chat_responses'] = data['text'].progress_apply(get_chat_response)\n",
    "data['chat_response_scope3'] = data['chat_responses'].apply(lambda x: x[0])\n",
    "data['chat_response_vague'] = data['chat_responses'].apply(lambda x: x[1])\n",
    "\n",
    "# data['scope3'] = data['chat_response'].apply(lambda x: x['scope3'])\n",
    "# data['vague'] = data['chat_response'].apply(lambda x: x['vague'])\n"
   ]
  },
  {
   "cell_type": "code",
   "execution_count": 14,
   "metadata": {},
   "outputs": [],
   "source": [
    "data.to_csv('gemma7b_baseline_new.csv', index=False)"
   ]
  },
  {
   "cell_type": "code",
   "execution_count": 15,
   "metadata": {},
   "outputs": [
    {
     "name": "stdout",
     "output_type": "stream",
     "text": [
      "total 1.8G\n",
      "drwxrwxr-x 6 siva siva 4.0K Apr 30 19:00  .\n",
      "drwxrwxr-x 6 siva siva 4.0K Apr 21 19:20  ..\n",
      "-rw-rw-r-- 1 siva siva 216K Apr 21 22:05  Alpaca_+_Mistral_7b_full_example.ipynb\n",
      "-rw-rw-r-- 1 siva siva 2.1M Apr 29 12:28  baseline_data_mistral7b.csv\n",
      "-rw-rw-r-- 1 siva siva 1.7G Apr 29 22:56  best_model.pth\n",
      "-rw-r--r-- 1 siva siva  97K Apr 21 21:14  Copy_of_CS685_S24_HW1.ipynb\n",
      "drwxrwxr-x 5 siva siva 4.0K Apr 30 08:51  CS685_final_project\n",
      "-rw-rw-r-- 1 siva siva 135K Apr 25 02:00  DE_gpt_2.txt\n",
      "-rw-rw-r-- 1 siva siva 163K Apr 25 09:29  DE_gpt3.txt\n",
      "-rw-rw-r-- 1 siva siva 146K Apr 25 09:29  DE_gpt_4.txt\n",
      "-rw-rw-r-- 1 siva siva 154K Apr 25 00:05  DE_gpt.txt\n",
      "-rw-rw-r-- 1 siva siva  51K Apr 24 21:50  DE_llm.txt\n",
      "-rw-rw-r-- 1 siva siva 123K Apr 27 16:39  DE_rules_cleaning.txt\n",
      "-rw-rw-r-- 1 siva siva 180K Apr 24 17:12  DE_sustain_report_parsed.txt\n",
      "-rw-rw-r-- 1 siva siva  14M Apr 25 01:29  DE_sustain_report.pdf\n",
      "-rw-rw-r-- 1 siva siva 9.6K Apr 24 23:27  de_test.txt\n",
      "-rw-rw-r-- 1 siva siva 122K Apr 30 18:06  encoder_model.ipynb\n",
      "-rw-rw-r-- 1 siva siva 2.5M Apr 28 12:17  final_annotated_data.csv\n",
      "-rw-rw-r-- 1 siva siva 6.8M Apr 30 19:00  gemma7b_baseline_new.csv\n",
      "-rw-rw-r-- 1 siva siva  41K Apr 27 16:21 'groq copy 2.ipynb'\n",
      "-rw-rw-r-- 1 siva siva  36K Apr 25 02:00 'groq copy 3.ipynb'\n",
      "-rw-rw-r-- 1 siva siva  17K Apr 27 16:21 'groq copy 4.ipynb'\n",
      "-rw-rw-r-- 1 siva siva  29K Apr 27 16:21 'groq copy.ipynb'\n",
      "-rw-rw-r-- 1 siva siva  30K Apr 27 16:21  groq.ipynb\n",
      "-rw-r--r-- 1 siva siva 2.0K Apr 21 21:23  helpers.py\n",
      "drwxr-xr-x 8 siva siva 4.0K Apr 21 23:03  kafka_2.12-3.7.0\n",
      "-rw-rw-r-- 1 siva siva 114M Apr 21 23:02  kafka_2.12-3.7.0.tgz\n",
      "-rw-rw-r-- 1 siva siva  30K Apr 27 17:55  llm_cleaning.ipynb\n",
      "-rw-rw-r-- 1 siva siva 6.6M Apr 30 14:46  mistral7b_baseline_new.csv\n",
      "-rw-rw-r-- 1 siva siva 111K Apr 28 21:11  NASDAQ_BKNG_2022_baseline.csv\n",
      "-rw-rw-r-- 1 siva siva 110K Apr 28 10:10  NASDAQ_BKNG_2022_results.csv\n",
      "-rw-rw-r-- 1 siva siva 506K Apr 28 02:01  new_reports_parsed.zip\n",
      "-rw-rw-r-- 1 siva siva 165K Apr 28 20:53  NYSE_DE_2022_baseline.csv\n",
      "-rw-rw-r-- 1 siva siva 163K Apr 27 17:47  NYSE_DE_2022_results.csv\n",
      "-rw-rw-r-- 1 siva siva 173K Apr 28 21:37  NYSE_DIS_2022_baseline.csv\n",
      "-rw-rw-r-- 1 siva siva 228K Apr 28 10:25  NYSE_DIS_2022_results.csv\n",
      "-rw-rw-r-- 1 siva siva 154K Apr 28 23:52  NYSE_KO_2022_baseline.csv\n",
      "-rw-rw-r-- 1 siva siva 207K Apr 28 11:20  NYSE_KO_2022_results.csv\n",
      "-rw-rw-r-- 1 siva siva 164K Apr 28 23:26  NYSE_MCD_2022_baseline.csv\n",
      "-rw-rw-r-- 1 siva siva 237K Apr 28 11:07  NYSE_MCD_2022_results.csv\n",
      "-rw-rw-r-- 1 siva siva 160K Apr 29 00:43  NYSE_NKE_2022_baseline.csv\n",
      "-rw-rw-r-- 1 siva siva 428K Apr 28 11:46  NYSE_NKE_2022_results.csv\n",
      "-rw-rw-r-- 1 siva siva 240K Apr 29 11:44  NYSE_PFE_2022_baseline.csv\n",
      "-rw-rw-r-- 1 siva siva 237K Apr 28 12:09  NYSE_PFE_2022_results.csv\n",
      "-rw-rw-r-- 1 siva siva 164K Apr 28 22:58  NYSE_TTE_2022_baseline.csv\n",
      "-rw-rw-r-- 1 siva siva 257K Apr 28 10:53  NYSE_TTE_2022_results.csv\n",
      "-rw-rw-r-- 1 siva siva 167K Apr 28 22:00  NYSE_UBER_2022_baseline.csv\n",
      "-rw-rw-r-- 1 siva siva 199K Apr 28 10:37  NYSE_UBER_2022_results.csv\n",
      "-rw-rw-r-- 1 siva siva 166K Apr 29 11:18  NYSE_XOM_2022_baseline.csv\n",
      "-rw-rw-r-- 1 siva siva 165K Apr 28 11:56  NYSE_XOM_2022_results.csv\n",
      "drwxrwxr-x 2 siva siva 4.0K Apr 21 20:53  outputs\n",
      "-rw-rw-r-- 1 siva siva 4.5K Apr 27 16:39  pdftext_cleaner.py\n",
      "drwxrwxr-x 2 siva siva 4.0K Apr 28 02:13  reports\n",
      "-rw-rw-r-- 1 siva siva  33K Apr 30 08:53  run_baseline.ipynb\n",
      "-rw-rw-r-- 1 siva siva  41K Apr 28 18:23  run_gpt.ipynb\n",
      "-rw-rw-r-- 1 siva siva  11K Apr 30 11:18  run_ollama.ipynb\n",
      "-rw-rw-r-- 1 siva siva 1.1K Apr 21 23:36  test2.ipynb\n",
      "-rw-rw-r-- 1 siva siva 117K Apr 25 01:59  test3.ipynb\n",
      "-rw-rw-r-- 1 siva siva 8.3K Apr 21 23:28  test.ipynb\n",
      "-rw-rw-r-- 1 siva siva 253K Apr 29 23:05  validation_results.csv\n"
     ]
    }
   ],
   "source": [
    "!ls -lha"
   ]
  },
  {
   "cell_type": "code",
   "execution_count": null,
   "metadata": {},
   "outputs": [],
   "source": []
  },
  {
   "cell_type": "code",
   "execution_count": null,
   "metadata": {},
   "outputs": [],
   "source": []
  },
  {
   "cell_type": "code",
   "execution_count": 27,
   "metadata": {},
   "outputs": [],
   "source": [
    "def get_chat_response(text):\n",
    "    model_chat_url = 'http://localhost:11434/api/chat'\n",
    "    prompt = create_prompt_scope3(text)\n",
    "    json_data = {\n",
    "        \"model\":\"gemma:2b-instruct-q8_0\",\n",
    "        \"stream\":False,\n",
    "        \"messages\": [\n",
    "            {\n",
    "                \"role\":\"user\",\n",
    "                \"content\": prompt\n",
    "            }\n",
    "        ],\n",
    "        \"options\": {\"num_predict\":50}\n",
    "    }\n",
    "    json_response_scope3 = requests.post(model_chat_url, json=json_data).json()['message']['content']\n",
    "\n",
    "    prompt = create_prompt_vagueness(text)\n",
    "    json_data = {\n",
    "        \"model\":\"gemma:2b-instruct-q8_0\",\n",
    "        \"stream\":False,\n",
    "        \"messages\": [\n",
    "            {\n",
    "                \"role\":\"user\",\n",
    "                \"content\": prompt\n",
    "            }\n",
    "        ],\n",
    "        \"options\": {\"num_predict\":50, \"temperature\":0.2}\n",
    "    }\n",
    "    json_response_vagueness = requests.post(model_chat_url, json=json_data).json()['message']['content']\n",
    "    return json_response_scope3, json_response_vagueness"
   ]
  },
  {
   "cell_type": "code",
   "execution_count": 28,
   "metadata": {},
   "outputs": [
    {
     "data": {
      "text/plain": [
       "('The sentence is discussing scope 3 emissions, representing one of the largest contributors to greenhouse gas emissions, and attributed in great measure to processes within our supply chains.',\n",
       " \"Sure, here's the classification of the sentences you provided:\\n\\n- Sentence 1: 1. Specific\\n- Sentence 2: 3. Generic\\n- Sentence 3: 2. Ambiguous\\n- Sentence 4:\")"
      ]
     },
     "execution_count": 28,
     "metadata": {},
     "output_type": "execute_result"
    }
   ],
   "source": [
    "get_chat_response(input_sentence)"
   ]
  },
  {
   "cell_type": "code",
   "execution_count": 24,
   "metadata": {},
   "outputs": [],
   "source": [
    "from concurrent.futures import ThreadPoolExecutor\n",
    "from concurrent import futures as f"
   ]
  },
  {
   "cell_type": "code",
   "execution_count": 33,
   "metadata": {},
   "outputs": [
    {
     "name": "stderr",
     "output_type": "stream",
     "text": [
      "100%|██████████| 10834/10834 [2:33:59<00:00,  1.17it/s] \n"
     ]
    }
   ],
   "source": [
    "import pandas as pd\n",
    "from tqdm import tqdm\n",
    "\n",
    "tqdm.pandas()\n",
    "\n",
    "data = pd.read_csv('final_annotated_data.csv')\n",
    "data['chat_responses'] = data['text'].progress_apply(get_chat_response)\n",
    "data['chat_response_scope3'] = data['chat_responses'].apply(lambda x: x[0])\n",
    "data['chat_response_vague'] = data['chat_responses'].apply(lambda x: x[1])\n",
    "\n",
    "# data['scope3'] = data['chat_response'].apply(lambda x: x['scope3'])\n",
    "# data['vague'] = data['chat_response'].apply(lambda x: x['vague'])\n"
   ]
  },
  {
   "cell_type": "code",
   "execution_count": 34,
   "metadata": {},
   "outputs": [],
   "source": [
    "data.to_csv('gemma2b_baseline_new.csv', index=False)"
   ]
  },
  {
   "cell_type": "code",
   "execution_count": null,
   "metadata": {},
   "outputs": [],
   "source": []
  }
 ],
 "metadata": {
  "kernelspec": {
   "display_name": "css",
   "language": "python",
   "name": "python3"
  },
  "language_info": {
   "codemirror_mode": {
    "name": "ipython",
    "version": 3
   },
   "file_extension": ".py",
   "mimetype": "text/x-python",
   "name": "python",
   "nbconvert_exporter": "python",
   "pygments_lexer": "ipython3",
   "version": "3.9.19"
  }
 },
 "nbformat": 4,
 "nbformat_minor": 2
}
