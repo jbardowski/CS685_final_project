{
 "cells": [
  {
   "cell_type": "code",
   "execution_count": 1,
   "metadata": {},
   "outputs": [],
   "source": [
    "import pandas as pd"
   ]
  },
  {
   "cell_type": "code",
   "execution_count": 2,
   "metadata": {},
   "outputs": [],
   "source": [
    "data = pd.read_csv('final_annotated_data.csv')"
   ]
  },
  {
   "cell_type": "code",
   "execution_count": 3,
   "metadata": {},
   "outputs": [],
   "source": [
    "data = data.sample(frac=1, random_state=42).reset_index(drop=True)"
   ]
  },
  {
   "cell_type": "code",
   "execution_count": 4,
   "metadata": {},
   "outputs": [],
   "source": [
    "test_set_size = int(len(data) * 0.1)"
   ]
  },
  {
   "cell_type": "code",
   "execution_count": 5,
   "metadata": {},
   "outputs": [
    {
     "data": {
      "text/html": [
       "<div>\n",
       "<style scoped>\n",
       "    .dataframe tbody tr th:only-of-type {\n",
       "        vertical-align: middle;\n",
       "    }\n",
       "\n",
       "    .dataframe tbody tr th {\n",
       "        vertical-align: top;\n",
       "    }\n",
       "\n",
       "    .dataframe thead th {\n",
       "        text-align: right;\n",
       "    }\n",
       "</style>\n",
       "<table border=\"1\" class=\"dataframe\">\n",
       "  <thead>\n",
       "    <tr style=\"text-align: right;\">\n",
       "      <th></th>\n",
       "      <th>text</th>\n",
       "      <th>gpt_responses</th>\n",
       "      <th>scope3</th>\n",
       "      <th>vague</th>\n",
       "      <th>file_name</th>\n",
       "    </tr>\n",
       "  </thead>\n",
       "  <tbody>\n",
       "    <tr>\n",
       "      <th>0</th>\n",
       "      <td>The Company gives preference to power from ren...</td>\n",
       "      <td>{'scope3': 'no', 'vague': 'generic'}</td>\n",
       "      <td>no</td>\n",
       "      <td>generic</td>\n",
       "      <td>NYSE_TTE_2022_results.csv</td>\n",
       "    </tr>\n",
       "    <tr>\n",
       "      <th>1</th>\n",
       "      <td>In FY22, NIKE and the Nike Foundation provided...</td>\n",
       "      <td>{'scope3': 'no', 'vague': 'specific'}</td>\n",
       "      <td>no</td>\n",
       "      <td>specific</td>\n",
       "      <td>NYSE_NKE_2022_results.csv</td>\n",
       "    </tr>\n",
       "    <tr>\n",
       "      <th>2</th>\n",
       "      <td>Process safety events can potentially impact t...</td>\n",
       "      <td>{'scope3': 'no', 'vague': 'ambiguous'}</td>\n",
       "      <td>no</td>\n",
       "      <td>ambiguous</td>\n",
       "      <td>NYSE_XOM_2022_results.csv</td>\n",
       "    </tr>\n",
       "    <tr>\n",
       "      <th>3</th>\n",
       "      <td>In addition to the circular production process...</td>\n",
       "      <td>{'scope3': 'no', 'vague': 'generic'}</td>\n",
       "      <td>no</td>\n",
       "      <td>generic</td>\n",
       "      <td>NYSE_TTE_2022_results.csv</td>\n",
       "    </tr>\n",
       "    <tr>\n",
       "      <th>4</th>\n",
       "      <td>Foundational to our human rights approach is t...</td>\n",
       "      <td>{'scope3': 'no', 'vague': 'specific'}</td>\n",
       "      <td>no</td>\n",
       "      <td>specific</td>\n",
       "      <td>NYSE_MCD_2022_results.csv</td>\n",
       "    </tr>\n",
       "    <tr>\n",
       "      <th>...</th>\n",
       "      <td>...</td>\n",
       "      <td>...</td>\n",
       "      <td>...</td>\n",
       "      <td>...</td>\n",
       "      <td>...</td>\n",
       "    </tr>\n",
       "    <tr>\n",
       "      <th>10829</th>\n",
       "      <td>While small compared to NIKE’s overall footpri...</td>\n",
       "      <td>{'scope3': 'no', 'vague': 'specific'}</td>\n",
       "      <td>no</td>\n",
       "      <td>specific</td>\n",
       "      <td>NYSE_NKE_2022_results.csv</td>\n",
       "    </tr>\n",
       "    <tr>\n",
       "      <th>10830</th>\n",
       "      <td>During FY21, we implemented a minimum hourly r...</td>\n",
       "      <td>{'scope3': 'no', 'vague': 'notESG'}</td>\n",
       "      <td>no</td>\n",
       "      <td>notESG</td>\n",
       "      <td>NYSE_NKE_2022_results.csv</td>\n",
       "    </tr>\n",
       "    <tr>\n",
       "      <th>10831</th>\n",
       "      <td>Understanding our leading and lagging indicato...</td>\n",
       "      <td>{'scope3': 'no', 'vague': 'ambiguous'}</td>\n",
       "      <td>no</td>\n",
       "      <td>ambiguous</td>\n",
       "      <td>NYSE_NKE_2022_results.csv</td>\n",
       "    </tr>\n",
       "    <tr>\n",
       "      <th>10832</th>\n",
       "      <td>Percentages for women based on global full and...</td>\n",
       "      <td>{'scope3': 'no', 'vague': 'notESG'}</td>\n",
       "      <td>no</td>\n",
       "      <td>notESG</td>\n",
       "      <td>NYSE_DIS_2022_results.csv</td>\n",
       "    </tr>\n",
       "    <tr>\n",
       "      <th>10833</th>\n",
       "      <td>We move quickly responding to day to day chang...</td>\n",
       "      <td>{'scope3': 'no', 'vague': 'notESG'}</td>\n",
       "      <td>no</td>\n",
       "      <td>notESG</td>\n",
       "      <td>NYSE_UBER_2022_results.csv</td>\n",
       "    </tr>\n",
       "  </tbody>\n",
       "</table>\n",
       "<p>10834 rows × 5 columns</p>\n",
       "</div>"
      ],
      "text/plain": [
       "                                                    text  \\\n",
       "0      The Company gives preference to power from ren...   \n",
       "1      In FY22, NIKE and the Nike Foundation provided...   \n",
       "2      Process safety events can potentially impact t...   \n",
       "3      In addition to the circular production process...   \n",
       "4      Foundational to our human rights approach is t...   \n",
       "...                                                  ...   \n",
       "10829  While small compared to NIKE’s overall footpri...   \n",
       "10830  During FY21, we implemented a minimum hourly r...   \n",
       "10831  Understanding our leading and lagging indicato...   \n",
       "10832  Percentages for women based on global full and...   \n",
       "10833  We move quickly responding to day to day chang...   \n",
       "\n",
       "                                gpt_responses scope3      vague  \\\n",
       "0        {'scope3': 'no', 'vague': 'generic'}     no    generic   \n",
       "1       {'scope3': 'no', 'vague': 'specific'}     no   specific   \n",
       "2      {'scope3': 'no', 'vague': 'ambiguous'}     no  ambiguous   \n",
       "3        {'scope3': 'no', 'vague': 'generic'}     no    generic   \n",
       "4       {'scope3': 'no', 'vague': 'specific'}     no   specific   \n",
       "...                                       ...    ...        ...   \n",
       "10829   {'scope3': 'no', 'vague': 'specific'}     no   specific   \n",
       "10830     {'scope3': 'no', 'vague': 'notESG'}     no     notESG   \n",
       "10831  {'scope3': 'no', 'vague': 'ambiguous'}     no  ambiguous   \n",
       "10832     {'scope3': 'no', 'vague': 'notESG'}     no     notESG   \n",
       "10833     {'scope3': 'no', 'vague': 'notESG'}     no     notESG   \n",
       "\n",
       "                        file_name  \n",
       "0       NYSE_TTE_2022_results.csv  \n",
       "1       NYSE_NKE_2022_results.csv  \n",
       "2       NYSE_XOM_2022_results.csv  \n",
       "3       NYSE_TTE_2022_results.csv  \n",
       "4       NYSE_MCD_2022_results.csv  \n",
       "...                           ...  \n",
       "10829   NYSE_NKE_2022_results.csv  \n",
       "10830   NYSE_NKE_2022_results.csv  \n",
       "10831   NYSE_NKE_2022_results.csv  \n",
       "10832   NYSE_DIS_2022_results.csv  \n",
       "10833  NYSE_UBER_2022_results.csv  \n",
       "\n",
       "[10834 rows x 5 columns]"
      ]
     },
     "execution_count": 5,
     "metadata": {},
     "output_type": "execute_result"
    }
   ],
   "source": [
    "data"
   ]
  },
  {
   "cell_type": "code",
   "execution_count": 8,
   "metadata": {},
   "outputs": [],
   "source": [
    "data.iloc[:test_set_size].to_csv('test_data.csv', index=False)"
   ]
  },
  {
   "cell_type": "code",
   "execution_count": 9,
   "metadata": {},
   "outputs": [],
   "source": [
    "data.iloc[test_set_size:].to_csv('train_data.csv', index=False)"
   ]
  },
  {
   "cell_type": "code",
   "execution_count": null,
   "metadata": {},
   "outputs": [],
   "source": []
  }
 ],
 "metadata": {
  "kernelspec": {
   "display_name": "unsloth_env",
   "language": "python",
   "name": "python3"
  },
  "language_info": {
   "codemirror_mode": {
    "name": "ipython",
    "version": 3
   },
   "file_extension": ".py",
   "mimetype": "text/x-python",
   "name": "python",
   "nbconvert_exporter": "python",
   "pygments_lexer": "ipython3",
   "version": "3.10.14"
  }
 },
 "nbformat": 4,
 "nbformat_minor": 2
}
